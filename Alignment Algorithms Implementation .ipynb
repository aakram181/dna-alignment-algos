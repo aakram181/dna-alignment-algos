{
 "cells": [
  {
   "cell_type": "markdown",
   "id": "0fdeafab",
   "metadata": {},
   "source": [
    "# Bioinformatics Assignment 2\n",
    "\n",
    "# 1) Implementing Global Aligment Algorithms"
   ]
  },
  {
   "cell_type": "markdown",
   "id": "61165229",
   "metadata": {},
   "source": [
    "## A - Dot matrix with window scoring"
   ]
  },
  {
   "cell_type": "code",
   "execution_count": 1,
   "id": "86ce794c",
   "metadata": {},
   "outputs": [],
   "source": [
    "#imports\n",
    "import numpy as np\n",
    "import matplotlib.pyplot as plt\n",
    "import pandas as pd\n",
    "import matplotlib.pyplot as plt"
   ]
  },
  {
   "cell_type": "markdown",
   "id": "d121314d",
   "metadata": {},
   "source": [
    "<br>The function below simply draws the matrix"
   ]
  },
  {
   "cell_type": "code",
   "execution_count": 2,
   "id": "00d89041",
   "metadata": {},
   "outputs": [],
   "source": [
    "def drawMatrix(seq1,seq2,matrix):\n",
    "    dotplot = plt.imshow(matrix)\n",
    "    #plt.grid()\n",
    "    plt.tick_params(labelsize=10, labelbottom = False, bottom=False,labeltop=True)\n",
    "    xt=plt.xticks(np.arange(len(seq2)),seq2)\n",
    "    yt=plt.yticks(np.arange(len(seq1)),seq1)\n",
    "    plt.show()"
   ]
  },
  {
   "cell_type": "markdown",
   "id": "688b3e9a",
   "metadata": {},
   "source": [
    "<br> checkAlignment counts the alignments in the sequences passed, returns a boolean indicating if it is greater than or equal to the threshold"
   ]
  },
  {
   "cell_type": "code",
   "execution_count": 3,
   "id": "0dc41062",
   "metadata": {},
   "outputs": [],
   "source": [
    "def checkAlignment(sub_seq1,sub_seq2, threshold):\n",
    "    c = 0 # Counts alignments\n",
    "    for i in range(len(sub_seq1)):\n",
    "        if sub_seq1[i] == sub_seq2[i]:\n",
    "            c+=1\n",
    "    if c >= threshold: # Check if alignments greater than or equal threshold\n",
    "        return True\n",
    "    return False"
   ]
  },
  {
   "cell_type": "markdown",
   "id": "16ca830f",
   "metadata": {},
   "source": [
    "<br> getAlign checks all the diagonals in the matrix by iterating through row 0, and then column 0. It then finds the starting position of the longest diagonal (most number of 1's in the diagonal). After that, its returns the aligned sequences that are along the longes diagonal. This is supposed to be the bonus part of the assignment"
   ]
  },
  {
   "cell_type": "code",
   "execution_count": 4,
   "id": "5185c199",
   "metadata": {},
   "outputs": [],
   "source": [
    "def getAlign(matrix,seq1,seq2):\n",
    "    horiz = len(seq2)\n",
    "    vert = len(seq1)\n",
    "    longest_diagonal = 0\n",
    "    \n",
    "    \n",
    "    ## LOOKING FOR LONGEST DIAGONAL\n",
    "    for j in range(horiz): # Loops over first row\n",
    "        row= 0\n",
    "        col = j\n",
    "        count = 0\n",
    "        while(row < vert and col < horiz): \n",
    "            if(matrix[row][col] == 1): # If the cell is 1 then increase count\n",
    "                count+=1\n",
    "            row+=1 # Move diagonally to the left\n",
    "            col+=1 \n",
    "        if(count>longest_diagonal): # Stores position and length of longest diagonal\n",
    "            longest_diagonal = count\n",
    "            diagonal_start = (0,j)\n",
    "        \n",
    "    for i in range(1,vert): # Loops over first column\n",
    "        row = i\n",
    "        col = 0\n",
    "        count = 0\n",
    "        while(row < vert and col < horiz):\n",
    "            if(matrix[row][col] == 1):\n",
    "                count+=1\n",
    "            row+=1\n",
    "            col+=1\n",
    "        if(count>longest_diagonal):\n",
    "            longest_diagonal = count\n",
    "            diagonal_start = (i,0)\n",
    "\n",
    "            \n",
    "    s1 = ''\n",
    "    s2 = ''\n",
    "    \n",
    "    i = diagonal_start[0]\n",
    "    j = diagonal_start[1]\n",
    "    \n",
    "    ## RETURNING MATCHING SEQUENCES ON DIAGONAL\n",
    "    while(i < vert and j < horiz):\n",
    "        s1 += seq1[i]\n",
    "        s2 += seq2[j]\n",
    "        i+=1\n",
    "        j+=1\n",
    "    return s1,s2\n",
    "    \n",
    "    \n",
    "    "
   ]
  },
  {
   "cell_type": "markdown",
   "id": "19f49270",
   "metadata": {},
   "source": [
    "<br>dotPlotMatrix implements the dot matrix method with window scoring."
   ]
  },
  {
   "cell_type": "code",
   "execution_count": 5,
   "id": "d7f283ad",
   "metadata": {},
   "outputs": [],
   "source": [
    "def dotPlotMatrix(seq1, seq2, window, step, threshold):\n",
    "    \n",
    "    matrix = np.zeros((len(seq1), len(seq2))) #Initialize matrix with zeros\n",
    "    middle = int((window + 1)/2) # Middle of the window (where the point will be set)\n",
    "    col_iterations = len(seq2) - window + 1 # Number of horizantal iterations \n",
    "    row_iterations = len(seq1) - window + 1 # Number of vertical iterations\n",
    "    \n",
    "    for i in range(0,row_iterations + 1, step):\n",
    "        for j in range(0,col_iterations+1,step):\n",
    "                        \n",
    "            thresh = checkAlignment(seq1[i:i+window],seq2[j:j+window],threshold) # Check if it passes threshold\n",
    "            \n",
    "            if(thresh):\n",
    "                matrix[i+middle-1][j+middle-1] = 1 ## Put a dot if greater than threshold\n",
    "\n",
    "    drawMatrix(seq1,seq2,matrix)\n",
    "    return getAlign(matrix,seq1,seq2)\n",
    "            #print('=========================')"
   ]
  },
  {
   "cell_type": "markdown",
   "id": "f63b3332",
   "metadata": {},
   "source": [
    "### Testing the implementation\n",
    "Matching<br>\n",
    "#### ACCTTGTCCTCTTTGCCC<br>\n",
    "with <br>\n",
    "#### ACGTTGACCTGTAACCTC<br>\n",
    " window size 9,step size 3 and threshold of 4"
   ]
  },
  {
   "cell_type": "code",
   "execution_count": 6,
   "id": "d08301f1",
   "metadata": {
    "scrolled": true
   },
   "outputs": [
    {
     "data": {
      "image/png": "[encoded data removed]",
      "text/plain": [
       "<Figure size 432x288 with 1 Axes>"
      ]
     },
     "metadata": {
      "needs_background": "light"
     },
     "output_type": "display_data"
    },
    {
     "name": "stdout",
     "output_type": "stream",
     "text": [
      "SEQUENCE 1:  ACGTTGACCTGTAACCTC\n",
      "matches with\n",
      "SEQUENCE 2:  ACCTTGTCCTCTTTGCCC\n"
     ]
    }
   ],
   "source": [
    "seq1 = 'ACGTTGACCTGTAACCTC'\n",
    "seq2 = 'ACCTTGTCCTCTTTGCCC'\n",
    "\n",
    "sequences = dotPlotMatrix(seq1,seq2,9,3,4)\n",
    "print('SEQUENCE 1: ',sequences[0])\n",
    "print('matches with')\n",
    "print('SEQUENCE 2: ',sequences[1])"
   ]
  },
  {
   "cell_type": "markdown",
   "id": "84cff72c",
   "metadata": {},
   "source": [
    "# <n>"
   ]
  },
  {
   "cell_type": "markdown",
   "id": "8e5d1573",
   "metadata": {},
   "source": [
    "## B - Needleman-Wunch Algorithm"
   ]
  },
  {
   "cell_type": "markdown",
   "id": "41112ed7",
   "metadata": {},
   "source": [
    "<n>initializeMatrices creates the score matrix as well as the direction matrix which will be used in traceback. It fells the first row and column with the cumulative gap cost"
   ]
  },
  {
   "cell_type": "code",
   "execution_count": 7,
   "id": "03040d88",
   "metadata": {},
   "outputs": [],
   "source": [
    "def initializeMatrices(seq1,seq2,gap):\n",
    "    matrix = np.zeros((len(seq1)+1, len(seq2)+1)) # Matrix that stores scores\n",
    "    \n",
    "    # Filling first row and first columns with the cumulative gap cost\n",
    "    x = len(seq2)\n",
    "    y = len(seq1)\n",
    "    matrix[0,:] = np.linspace(0,x*gap,x+1)\n",
    "    matrix[:,0] = np.linspace(0,y*gap,y+1)\n",
    "    \n",
    "    tabl = np.empty((y+1,x+1), dtype = object) # Stores solutions (dp tabulation)\n",
    "    \n",
    "    # Filling direction matrix first row with 2 (left), and first column with 1 (up)\n",
    "    tabl[0,:].fill(2)\n",
    "    tabl[:,0].fill(1)\n",
    "    ##2 == left, ##1 == up, ##0== diagonal\n",
    "    return matrix,tabl"
   ]
  },
  {
   "cell_type": "markdown",
   "id": "2b4c718a",
   "metadata": {},
   "source": [
    "<br>printMatrixNw prints the the score matrix and the direction matrix as one table"
   ]
  },
  {
   "cell_type": "code",
   "execution_count": 8,
   "id": "5a4634c1",
   "metadata": {},
   "outputs": [],
   "source": [
    "def printMatrixNw(matrix, tabl,x,y):\n",
    "    \n",
    "    direc_dict = {0: 'diag', 1: 'up', 2: 'left' }\n",
    "    \n",
    "    tabl_string = np.vectorize(direc_dict.get)(tabl)\n",
    "    a = np.array([item for item in zip(matrix.flat, tabl_string.flat)],dtype = np.dtype('object,object'))\n",
    "    new = a.reshape(tabl_string.shape)\n",
    "    \n",
    "    tab = plt.table(new, cellLoc= 'center', rowLabels= list(y), colLabels =  list(x), loc = 'top')\n",
    "    plt.tick_params(axis='x', which='both', bottom=False, top=False, labelbottom=False)\n",
    "    plt.tick_params(axis='y', which='both', right=False, left=False, labelleft=False)\n",
    "    for pos in ['right','top','bottom','left']:\n",
    "        plt.gca().spines[pos].set_visible(False)\n",
    "    tab.scale(4, 4)\n",
    "    plt.show()\n",
    "    "
   ]
  },
  {
   "cell_type": "markdown",
   "id": "00671710",
   "metadata": {},
   "source": [
    "<br>needlemanWunsch function implements the Needleman-Wunsch algorithm which is used to align nucleotide and protein sequences globally. It makes use of dynamic programming by tabulating the sub-solutions after each step. First, it fills the matrix by calculating the maximum score at each cell by taking the match, mismatch, and gap penalties into account. It then stores where  the cell obtained its score from in the directions matrix (whether its from the cell to the left or above or diagonal.) The directions matrix is then used to traceback and print the aligned sequences."
   ]
  },
  {
   "cell_type": "code",
   "execution_count": 9,
   "id": "d3b421f5",
   "metadata": {},
   "outputs": [],
   "source": [
    "def needlemanWunsch(seq1,seq2,match,mismatch,gap):\n",
    "    matrix, tabl = initializeMatrices(seq1,seq2,gap)\n",
    "    \n",
    "    # Creating labels for the sake of printing each step\n",
    "    labelx = np.array(list('j' + seq2))\n",
    "    labely = np.vstack(np.array(list('i' + seq1)))\n",
    "    \n",
    "    for i in range(1,len(seq1)+1):         # The nested loops fill the matrix and tabl matrices\n",
    "        for j in range(1,len(seq2)+1):\n",
    "            scores = [0,0,0]               # Index 0 == MOVING DIAGONALLY, Index 1 == MOVING UP, Index 2 == MOVING LEFT\n",
    "            if(seq1[i-1] == seq2[j-1]):\n",
    "                scores[0] = matrix[i-1][j-1] + match # Score in case of match\n",
    "                flag = True\n",
    "            else:\n",
    "                scores[0] = matrix[i-1][j-1] + mismatch #Score in case of mismatch\n",
    "                flag = False\n",
    "                \n",
    "            scores[1] = matrix[i-1,j] + gap # Score in hgap\n",
    "            scores[2] = matrix[i,j-1] + gap # Score in vgap\n",
    "            \n",
    "            matrix[i][j] = max(scores) # Maximum of all scores is stored \n",
    "            tabl[i][j]=scores.index(max(scores)) # Direction is stored in the tabulation array\n",
    "            \n",
    "    printMatrixNw(matrix, tabl,labelx,labely)\n",
    "            \n",
    "    al1 = '' # Aligned sequece in first dna\n",
    "    al2 = '' # Aligned sequence in second dna\n",
    "    i = len(seq1) \n",
    "    j = len(seq2)\n",
    "    # Trackback\n",
    "    while(i>0 or j >0):\n",
    "        if tabl[i][j] == 0: # If direc is diagonal, then match/mismatch\n",
    "            al1+= seq1[i-1]\n",
    "            al2+= seq2[j-1]\n",
    "            i-=1\n",
    "            j-=1\n",
    "        elif tabl[i][j] == 1: # If direc up then horizantal gap\n",
    "            al1+= seq1[i-1]\n",
    "            al2+= '-'\n",
    "            i-=1\n",
    "        elif tabl[i][j] == 2: # If direc left then vertical gap\n",
    "            al1+= '-'\n",
    "            al2+=seq2[j-1]\n",
    "            j-=1\n",
    "    return (al1[::-1]),(al2[::-1]) # Return the flipped strings\n"
   ]
  },
  {
   "cell_type": "markdown",
   "id": "e57d772a",
   "metadata": {},
   "source": [
    "### Testing the implementation\n",
    "We want to match<br>\n",
    "#### ACGCTG<br>\n",
    "with <br>\n",
    "#### CATGT<br>\n",
    "match score = 2, mismatch score = -1, gap score = -1"
   ]
  },
  {
   "cell_type": "markdown",
   "id": "dc92ce43",
   "metadata": {},
   "source": [
    "#### Printing the table:"
   ]
  },
  {
   "cell_type": "code",
   "execution_count": 10,
   "id": "e3f9d5b0",
   "metadata": {
    "scrolled": true
   },
   "outputs": [
    {
     "name": "stderr",
     "output_type": "stream",
     "text": [
      "C:\\Users\\LENOVO\\anaconda3\\envs\\bioinf\\lib\\site-packages\\matplotlib\\text.py:1165: FutureWarning: elementwise != comparison failed and returning scalar instead; this will raise an error or perform elementwise comparison in the future.\n",
      "  if s != self._text:\n"
     ]
    },
    {
     "data": {
      "image/png": "[encoded data removed]",
      "text/plain": [
       "<Figure size 432x288 with 1 Axes>"
      ]
     },
     "metadata": {},
     "output_type": "display_data"
    }
   ],
   "source": [
    "seq1 = 'CATGT'\n",
    "seq2 = 'ACGCTG'\n",
    "align = needlemanWunsch(seq1,seq2,2,-1,-1)"
   ]
  },
  {
   "cell_type": "markdown",
   "id": "f6033b74",
   "metadata": {},
   "source": [
    "#### Printing the aligned sequences after the traceback:"
   ]
  },
  {
   "cell_type": "code",
   "execution_count": 11,
   "id": "145bc2d5",
   "metadata": {},
   "outputs": [
    {
     "name": "stdout",
     "output_type": "stream",
     "text": [
      "ALIGNED SEQUENCES:\n",
      "\n",
      "SEQUENCE 1:  -C-ATGT\n",
      "SEQUENCE 2:  ACGCTG-\n"
     ]
    }
   ],
   "source": [
    "print('ALIGNED SEQUENCES:')\n",
    "print()\n",
    "print('SEQUENCE 1: ',align[0])\n",
    "print('SEQUENCE 2: ',align[1])"
   ]
  },
  {
   "cell_type": "markdown",
   "id": "69bbfb12",
   "metadata": {},
   "source": [
    "#                      "
   ]
  },
  {
   "cell_type": "markdown",
   "id": "0d1fd283",
   "metadata": {},
   "source": [
    "# 2 - Implementing Smith-Waterman Algorithm"
   ]
  },
  {
   "cell_type": "markdown",
   "id": "15624c95",
   "metadata": {},
   "source": [
    "<br>initializeMatrix simply creates an empty matrix with the size of the sequences. It fills the first row and first column with zeroes"
   ]
  },
  {
   "cell_type": "code",
   "execution_count": 12,
   "id": "0a1b703b",
   "metadata": {},
   "outputs": [],
   "source": [
    "def initializeMatrix(seq1,seq2):\n",
    "    matrix = np.empty((len(seq1)+1,len(seq2)+1),dtype = 'int64')\n",
    "    matrix[:,0] = 0\n",
    "    matrix[0,:] = 0\n",
    "    return matrix"
   ]
  },
  {
   "cell_type": "markdown",
   "id": "9d2f50e5",
   "metadata": {},
   "source": [
    "<br>printMatrixSw prints the matrix as a table"
   ]
  },
  {
   "cell_type": "code",
   "execution_count": 13,
   "id": "297ed028",
   "metadata": {},
   "outputs": [],
   "source": [
    "def printMatrixSw(matrix,x,y):\n",
    "    tab = plt.table(matrix, cellLoc= 'center', rowLabels= list(y), colLabels =  list(x), loc = 'top')\n",
    "    plt.tick_params(axis='x', which='both', bottom=False, top=False, labelbottom=False)\n",
    "    plt.tick_params(axis='y', which='both', right=False, left=False, labelleft=False)\n",
    "    for pos in ['right','top','bottom','left']:\n",
    "        plt.gca().spines[pos].set_visible(False)\n",
    "    tab.scale(4, 4)\n",
    "    plt.show()"
   ]
  },
  {
   "cell_type": "markdown",
   "id": "7b0598bb",
   "metadata": {},
   "source": [
    "<br>smithWaterman implements the Smith-Waterman local alignment algorithm. It is implemented in a similar manner to the Smith-Needleman Algorithm. The matrix is first filled with the maximum calculcated score, however if the maximum score is negative, the value of the cell is set to zero. After the matrix is filled, the algorithm then finds the cell with the maximum value, and traces back through the highest scores until it reaches a cell with value 0."
   ]
  },
  {
   "cell_type": "code",
   "execution_count": 14,
   "id": "328fd4b0",
   "metadata": {},
   "outputs": [],
   "source": [
    "def smithWaterman(seq1,seq2,match,mismatch,gap):\n",
    "    matrix = initializeMatrix(seq1,seq2)\n",
    "    \n",
    "    label_x = np.array(list('0' + seq2))\n",
    "    label_y = np.vstack(np.array(list('0' + seq1)))\n",
    "    for i in range(1,len(seq1)+1):    # Filling the matrix\n",
    "        for j in range(1,len(seq2)+1):\n",
    "            scores = [0,0,0,0]\n",
    "            if(seq1[i-1] == seq2[j-1]):\n",
    "                scores[0] = matrix[i-1][j-1] + match # Score in case of match\n",
    "                flag = True # Purpose of the flag is for printing (To know if there is a match or a mismatch)\n",
    "                \n",
    "            else:\n",
    "                scores[0] = matrix[i-1][j-1] + mismatch # Score in case of mismatch\n",
    "                flag = False\n",
    "                \n",
    "            scores[1] = matrix[i-1,j] + gap # score in hgap\n",
    "            scores[2] = matrix[i,j-1] + gap # score in vgap\n",
    "            matrix[i][j] = max(scores)\n",
    "            \n",
    "    printMatrixSw(matrix,label_x,label_y)\n",
    "    i,j = np.unravel_index(matrix.argmax(),matrix.shape) # i and j contain co-ordinates of maximum value in the matrix    \n",
    "    \n",
    "\n",
    "    # Traceback implemented in a similar way to needleman Wunsch algorithm above\n",
    "    al1,al2 = '',''\n",
    "    while(not(matrix[i][j] == 0)): # If cell is 0 then stop\n",
    "        score = []\n",
    "        score.append(matrix[i-1,j-1])# moving diag index 0 \n",
    "        score.append(matrix[i-1,j])  # moving up index 1\n",
    "        score.append(matrix[i,j-1])  # moving left index 2\n",
    "        \n",
    "        direc = score.index(max(score))\n",
    "        \n",
    "        if direc == 0:\n",
    "            al1+= seq1[i-1]\n",
    "            al2+= seq2[j-1]\n",
    "            i-=1\n",
    "            j-=1\n",
    "        elif direc == 1:\n",
    "            al1+= seq1[i-1]\n",
    "            al2+= '-'\n",
    "            i-=1\n",
    "        elif direc == 2:\n",
    "            al1+= '-'\n",
    "            al2+= seq2[j-1]\n",
    "            j-=1\n",
    "    return (al1[::-1]),(al2[::-1])\n"
   ]
  },
  {
   "cell_type": "markdown",
   "id": "a955b987",
   "metadata": {},
   "source": [
    "### Testing the implementation\n",
    "We want to match<br>\n",
    "#### TGCTCGTA<br>\n",
    "with <br>\n",
    "#### TTCATA<br>\n",
    "match score = 5, mismatch score = -2, gap score = -6"
   ]
  },
  {
   "cell_type": "markdown",
   "id": "707209a8",
   "metadata": {},
   "source": [
    "### Printing the filled table"
   ]
  },
  {
   "cell_type": "code",
   "execution_count": 15,
   "id": "0618d604",
   "metadata": {
    "scrolled": true
   },
   "outputs": [
    {
     "data": {
      "image/png": "[encoded data removed]",
      "text/plain": [
       "<Figure size 432x288 with 1 Axes>"
      ]
     },
     "metadata": {},
     "output_type": "display_data"
    }
   ],
   "source": [
    "seq1 = 'TTCATA'\n",
    "seq2 = 'TGCTCGTA'\n",
    "p = smithWaterman(seq1,seq2,5,-2,-6)"
   ]
  },
  {
   "cell_type": "markdown",
   "id": "5bc12f93",
   "metadata": {},
   "source": [
    "### Printing the aligned sequences"
   ]
  },
  {
   "cell_type": "code",
   "execution_count": 16,
   "id": "2b7b38f9",
   "metadata": {},
   "outputs": [
    {
     "name": "stdout",
     "output_type": "stream",
     "text": [
      "ALIGNED SEQUENCES:\n",
      "\n",
      "SEQUENCE 1:  TTCATA\n",
      "SEQUENCE 2:  T-CGTA\n"
     ]
    }
   ],
   "source": [
    "print('ALIGNED SEQUENCES:')\n",
    "print()\n",
    "print('SEQUENCE 1: ',p[0])\n",
    "print('SEQUENCE 2: ',p[1])"
   ]
  },
  {
   "cell_type": "code",
   "execution_count": null,
   "id": "045669c3",
   "metadata": {},
   "outputs": [],
   "source": []
  }
 ],
 "metadata": {
  "kernelspec": {
   "display_name": "Python 3",
   "language": "python",
   "name": "python3"
  },
  "language_info": {
   "codemirror_mode": {
    "name": "ipython",
    "version": 3
   },
   "file_extension": ".py",
   "mimetype": "text/x-python",
   "name": "python",
   "nbconvert_exporter": "python",
   "pygments_lexer": "ipython3",
   "version": "3.8.8"
  }
 },
 "nbformat": 4,
 "nbformat_minor": 5
}
